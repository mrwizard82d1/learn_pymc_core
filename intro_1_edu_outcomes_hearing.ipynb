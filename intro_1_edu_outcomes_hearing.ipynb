{
 "cells": [
  {
   "metadata": {},
   "cell_type": "markdown",
   "source": "# Case Study 1: Educational Outcomes for Hearing-impaired Children",
   "id": "f512c9b5806cab3e"
  },
  {
   "cell_type": "code",
   "id": "initial_id",
   "metadata": {
    "collapsed": true
   },
   "source": [
    "# Import data analysis packages\n",
    "import numpy as np\n",
    "import matplotlib.pyplot as plt\n",
    "import pandas as pd"
   ],
   "outputs": [],
   "execution_count": null
  },
  {
   "metadata": {},
   "cell_type": "code",
   "source": [
    "# Import pymc modules\n",
    "import arviz as av\n",
    "import pymc as pm"
   ],
   "id": "12eed4d2d02f4e4e",
   "outputs": [],
   "execution_count": null
  },
  {
   "metadata": {},
   "cell_type": "markdown",
   "source": [
    "Here, we are interested in determining factors associated with\n",
    "better or poorer learning outcomes."
   ],
   "id": "6558273e2611421e"
  },
  {
   "metadata": {},
   "cell_type": "markdown",
   "source": "## The Data",
   "id": "bf2124e6a20de1b5"
  },
  {
   "metadata": {},
   "cell_type": "code",
   "source": "",
   "id": "528a8707d77c279c",
   "outputs": [],
   "execution_count": null
  },
  {
   "metadata": {},
   "cell_type": "markdown",
   "source": [
    "The anonymized dataset is taken from the Listening and\n",
    "Spoken Language Data Repository (LSL-DR), an international data repository.\n",
    "\n",
    "The anonymized data set tracks the demographics and longitudinal\n",
    "outcomes for children who have hearing loss and are enrolled in\n",
    "programs focused on supporting listening and spoken language\n",
    "development. Researchers are interested in discovering factors\n",
    "related to improvements in educational outcomes within these programs.\n",
    "\n",
    "The data set contains a suite of available predictors including:\n",
    "\n",
    "- Gender (`male`)\n",
    "- Number of household siblings (`siblings`)\n",
    "- Index of family involvement (`family_inv`)\n",
    "- Whether the primary household language is not English (`non_english`)\n",
    "- Presence of a previous disability (`prev_disab`)\n",
    "- Non-white race (`non_white`)\n",
    "- Age at time of testing (in months, `age_test`)\n",
    "- Whether hearing loss is not severe (`non_severe_hl`)\n",
    "- Whether the subject's mother obtained a high school diploma or better (`mother_hs`)\n",
    "- Whether the hearing impairment was identified by 3 months of age (`early_ident`)"
   ],
   "id": "22a26e8aed8d73e6"
  },
  {
   "metadata": {},
   "cell_type": "markdown",
   "source": [
    "The outcome variable is a standardized test score in one of several\n",
    "learning domains."
   ],
   "id": "6a351b4c06ce99a8"
  },
  {
   "metadata": {},
   "cell_type": "code",
   "source": [
    "# Load the test scores to be analyzed.\n",
    "test_scores = pd.read_csv(pm.get_data('test_scores.csv'), index_col=0)\n",
    "test_scores.head()"
   ],
   "id": "b726bd82d1f296d5",
   "outputs": [],
   "execution_count": null
  },
  {
   "metadata": {},
   "cell_type": "code",
   "source": [
    "# Examine a histogram of the outcomes\n",
    "test_scores['score'].hist()\n",
    "\n",
    "plt.show()"
   ],
   "id": "4d64c1c866c79908",
   "outputs": [],
   "execution_count": null
  },
  {
   "metadata": {},
   "cell_type": "code",
   "source": [
    "# Dropping missing values is, generally, a **very bad idea**. We do so\n",
    "# in this case for simplicity. Additionally, we convert all values to\n",
    "# floating point numbers.\n",
    "X = test_scores.dropna().astype(float)\n",
    "\n",
    "# The `DataFrame.pop()` method drops the specified item from the\n",
    "# `DataFrame` and returns the dropped items.\n",
    "y = X.pop('score')\n",
    "\n",
    "# Standardize the features\n",
    "X -= X.mean() # Centered at the mean\n",
    "X /= X.std() # Normalize to the standard deviation\n",
    "\n",
    "# I'm uncertain. What do `N` and `D` stand for?\n",
    "N, D = X.shape\n",
    "N, D"
   ],
   "id": "c8b40dd5a9c26eb4",
   "outputs": [],
   "execution_count": null
  },
  {
   "metadata": {},
   "cell_type": "markdown",
   "source": "## The Model",
   "id": "af2f64f134fbdc8f"
  },
  {
   "metadata": {},
   "cell_type": "markdown",
   "source": [
    "This problem is a more realistic problem than our introductory\n",
    "linear regression problem. Specifically,\n",
    "\n",
    "- The problem is a **multivariate** regression problem\n",
    "- We do not know, _a priori_, which parameters are\n",
    "  relevant for constructing a statistical model.\n",
    "\n",
    "A number of approaches are available for solving the second issue;\n",
    "however, we will use _regularization_, a popular automated approach\n",
    "that penalizes ineffective co-variates by shrinking them toward zero\n",
    "if they do not contribute toward predicting outcomes.\n",
    "\n",
    "In a Bayesian context, instead of using methods like lasso or\n",
    "ridge regression, we apply an appropriate **prior** to the\n",
    "regression coefficients. One such prior is the _hierarchical\n",
    "regularized horseshoe_. This prior uses **two** regularization\n",
    "strategies:\n",
    "\n",
    "- One global\n",
    "- A set of local parameters - one for each coefficient\n",
    "\n",
    "The key to making this work is by selecting a [long-tailed\n",
    "distribution](https://en.wikipedia.org/wiki/Long_tail)\n",
    "as the shrinkage priors. This approach allows some priors(?)\n",
    "to be non-zero while pushing the rest toward zero.\n",
    "\n",
    "The horseshoe prior for each regression coefficient, $\\beta_{i}$,\n",
    "looks like:\n",
    "\n",
    "$$\n",
    "\\beta_{i} \\sim \\mathcal{N} ( 0, \\tau^{2} \\cdot \\widetilde{\\lambda}_{i}^{2})\n",
    "$$\n",
    "\n",
    "where $\\sigma$ is the prior on the error standard deviation that\n",
    "will also be used for the model likelihood.\n",
    "\n",
    "In this expression, $\\tau$ is the global shrinkage parameter and\n",
    "$\\widetilde{\\lambda}_{i}$ is the local shrinkage parameter.\n",
    "\n"
   ],
   "id": "1018c0044fbb145b"
  },
  {
   "metadata": {},
   "cell_type": "markdown",
   "source": [
    "Let's start global. For the prior on $\\tau$, we will use the\n",
    "Half-StudentT distribution. This choice is reasonable because\n",
    "it is heavy tailed.\n",
    "\n",
    "$$\n",
    "\\tau \\sim Half-StudentT_{2}(\\frac{D_{0}}{D - D_{0}} \\cdot \\frac{\\sigma}{\\sqrt N})\n",
    "$$\n",
    "\n",
    "One catch: our parameterization of the prior requires a constant,\n",
    "$D_{0}$, which represents the true number of non-zero parameters.\n",
    "Fortunately, we only need a reasonable guess and it only need to\n",
    "be within an order of magnitude of the true number. We'll use\n",
    "half the number of predictors as our guess:\n",
    "```python\n",
    "D0 = int(D / 2)\n",
    "```\n",
    "\n",
    "The local shrinkage parameters are defined by the ratio\n",
    "\n",
    "$$\n",
    "\\widetilde{\\lambda}_{i}^{2} = \\frac{c^{2} \\lambda_{i}^{2}}{c^{2} + \\tau^{2} \\lambda_{i}^{2}}\n",
    "$$\n",
    "\n",
    "To complete this specification, we need priors on\n",
    "$\\lambda_{i}$ and $c$. Similar to the global shrinkage, we use\n",
    "a long-tailed Half-StudentT on the $\\lambda_{i}$. We need $c^{2}$\n",
    "to be strictly positive but not necessarily long-tailed.\n",
    "Consequently, we will use an inverse gamma prior on $c^{2}$\n",
    "where $c^{2} \\sim InverseGamma(1, 1)$.\n",
    "\n",
    "Finally, to allow the NUTS sampler to sample the $\\beta_{i}$\n",
    "more efficiently, we will **re-parameterize** as follows:\n",
    "\n",
    "$$\n",
    "\\begin{gather}\n",
    "z_{i} \\sim \\mathcal{N}(0, 1) \\\\\n",
    "\\beta_{i} = z_{i} \\cdot \\tau \\cdot \\widetilde{\\lambda}_{i}\n",
    "\\end{gather}\n",
    "$$\n",
    "\n",
    "You will often encounter this re-parameterization in practice."
   ],
   "id": "715c5abfb308a44"
  },
  {
   "metadata": {},
   "cell_type": "code",
   "source": "",
   "id": "9420cbd5e8e3a792",
   "outputs": [],
   "execution_count": null
  }
 ],
 "metadata": {
  "kernelspec": {
   "display_name": "Python 3",
   "language": "python",
   "name": "python3"
  },
  "language_info": {
   "codemirror_mode": {
    "name": "ipython",
    "version": 2
   },
   "file_extension": ".py",
   "mimetype": "text/x-python",
   "name": "python",
   "nbconvert_exporter": "python",
   "pygments_lexer": "ipython2",
   "version": "2.7.6"
  }
 },
 "nbformat": 4,
 "nbformat_minor": 5
}
