{
 "cells": [
  {
   "metadata": {},
   "cell_type": "markdown",
   "source": "# Case Study 1: Educational Outcomes for Hearing-impaired Children",
   "id": "f512c9b5806cab3e"
  },
  {
   "cell_type": "code",
   "id": "initial_id",
   "metadata": {
    "collapsed": true,
    "ExecuteTime": {
     "end_time": "2025-01-11T02:55:24.235869Z",
     "start_time": "2025-01-11T02:55:23.691275Z"
    }
   },
   "source": [
    "# Import data analysis packages\n",
    "import numpy as np\n",
    "import matplotlib.pyplot as plt\n",
    "import pandas as pd"
   ],
   "outputs": [],
   "execution_count": 1
  },
  {
   "metadata": {
    "ExecuteTime": {
     "end_time": "2025-01-11T02:55:25.975304Z",
     "start_time": "2025-01-11T02:55:24.239145Z"
    }
   },
   "cell_type": "code",
   "source": [
    "# Import pymc modules\n",
    "import arviz as av\n",
    "import pymc as pm"
   ],
   "id": "12eed4d2d02f4e4e",
   "outputs": [],
   "execution_count": 2
  },
  {
   "metadata": {},
   "cell_type": "markdown",
   "source": [
    "Here, we are interested in determining factors associated with\n",
    "better or poorer learning outcomes."
   ],
   "id": "6558273e2611421e"
  },
  {
   "metadata": {},
   "cell_type": "markdown",
   "source": "## The Data",
   "id": "bf2124e6a20de1b5"
  },
  {
   "metadata": {
    "ExecuteTime": {
     "end_time": "2025-01-11T02:55:26.018562Z",
     "start_time": "2025-01-11T02:55:26.017218Z"
    }
   },
   "cell_type": "code",
   "source": "",
   "id": "528a8707d77c279c",
   "outputs": [],
   "execution_count": null
  },
  {
   "metadata": {},
   "cell_type": "markdown",
   "source": [
    "The anonymized dataset is taken from the Listening and\n",
    "Spoken Language Data Repository (LSL-DR), an international data repository.\n",
    "\n",
    "The anonymized data set tracks the demographics and longitudinal\n",
    "outcomes for children who have hearing loss and are enrolled in\n",
    "programs focused on supporting listening and spoken language\n",
    "development. Researchers are interested in discovering factors\n",
    "related to improvements in educational outcomes within these programs.\n",
    "\n",
    "The data set contains a suite of available predictors including:\n",
    "\n",
    "- Gender (`male`)\n",
    "- Number of household siblings (`siblings`)\n",
    "- Index of family involvement (`family_inv`)\n",
    "- Whether the primary household language is not English (`non_english`)\n",
    "- Presence of a previous disability (`prev_disab`)\n",
    "- Non-white race (`non_white`)\n",
    "- Age at time of testing (in months, `age_test`)\n",
    "- Whether hearing loss is not severe (`non_severe_hl`)\n",
    "- Whether the subject's mother obtained a high school diploma or better (`mother_hs`)\n",
    "- Whether the hearing impairment was identified by 3 months of age (`early_ident`)"
   ],
   "id": "22a26e8aed8d73e6"
  },
  {
   "metadata": {},
   "cell_type": "markdown",
   "source": [
    "The outcome variable is a standardized test score in one of several\n",
    "learning domains."
   ],
   "id": "6a351b4c06ce99a8"
  },
  {
   "metadata": {
    "ExecuteTime": {
     "end_time": "2025-01-11T02:55:26.167937Z",
     "start_time": "2025-01-11T02:55:26.022765Z"
    }
   },
   "cell_type": "code",
   "source": [
    "# Load the test scores to be analyzed.\n",
    "test_scores = pd.read_csv(pm.get_data('test_scores.csv'), index_col=0)\n",
    "test_scores.head()"
   ],
   "id": "b726bd82d1f296d5",
   "outputs": [
    {
     "data": {
      "text/plain": [
       "   score  male  siblings  family_inv  non_english  prev_disab  age_test  \\\n",
       "0     40     0       2.0         2.0        False         NaN        55   \n",
       "1     31     1       0.0         NaN        False         0.0        53   \n",
       "2     83     1       1.0         1.0         True         0.0        52   \n",
       "3     75     0       3.0         NaN        False         0.0        55   \n",
       "5     62     0       0.0         4.0        False         1.0        50   \n",
       "\n",
       "   non_severe_hl  mother_hs  early_ident  non_white  \n",
       "0            1.0        NaN        False      False  \n",
       "1            0.0        0.0        False      False  \n",
       "2            1.0        NaN        False       True  \n",
       "3            0.0        1.0        False      False  \n",
       "5            0.0        NaN        False      False  "
      ],
      "text/html": [
       "<div>\n",
       "<style scoped>\n",
       "    .dataframe tbody tr th:only-of-type {\n",
       "        vertical-align: middle;\n",
       "    }\n",
       "\n",
       "    .dataframe tbody tr th {\n",
       "        vertical-align: top;\n",
       "    }\n",
       "\n",
       "    .dataframe thead th {\n",
       "        text-align: right;\n",
       "    }\n",
       "</style>\n",
       "<table border=\"1\" class=\"dataframe\">\n",
       "  <thead>\n",
       "    <tr style=\"text-align: right;\">\n",
       "      <th></th>\n",
       "      <th>score</th>\n",
       "      <th>male</th>\n",
       "      <th>siblings</th>\n",
       "      <th>family_inv</th>\n",
       "      <th>non_english</th>\n",
       "      <th>prev_disab</th>\n",
       "      <th>age_test</th>\n",
       "      <th>non_severe_hl</th>\n",
       "      <th>mother_hs</th>\n",
       "      <th>early_ident</th>\n",
       "      <th>non_white</th>\n",
       "    </tr>\n",
       "  </thead>\n",
       "  <tbody>\n",
       "    <tr>\n",
       "      <th>0</th>\n",
       "      <td>40</td>\n",
       "      <td>0</td>\n",
       "      <td>2.0</td>\n",
       "      <td>2.0</td>\n",
       "      <td>False</td>\n",
       "      <td>NaN</td>\n",
       "      <td>55</td>\n",
       "      <td>1.0</td>\n",
       "      <td>NaN</td>\n",
       "      <td>False</td>\n",
       "      <td>False</td>\n",
       "    </tr>\n",
       "    <tr>\n",
       "      <th>1</th>\n",
       "      <td>31</td>\n",
       "      <td>1</td>\n",
       "      <td>0.0</td>\n",
       "      <td>NaN</td>\n",
       "      <td>False</td>\n",
       "      <td>0.0</td>\n",
       "      <td>53</td>\n",
       "      <td>0.0</td>\n",
       "      <td>0.0</td>\n",
       "      <td>False</td>\n",
       "      <td>False</td>\n",
       "    </tr>\n",
       "    <tr>\n",
       "      <th>2</th>\n",
       "      <td>83</td>\n",
       "      <td>1</td>\n",
       "      <td>1.0</td>\n",
       "      <td>1.0</td>\n",
       "      <td>True</td>\n",
       "      <td>0.0</td>\n",
       "      <td>52</td>\n",
       "      <td>1.0</td>\n",
       "      <td>NaN</td>\n",
       "      <td>False</td>\n",
       "      <td>True</td>\n",
       "    </tr>\n",
       "    <tr>\n",
       "      <th>3</th>\n",
       "      <td>75</td>\n",
       "      <td>0</td>\n",
       "      <td>3.0</td>\n",
       "      <td>NaN</td>\n",
       "      <td>False</td>\n",
       "      <td>0.0</td>\n",
       "      <td>55</td>\n",
       "      <td>0.0</td>\n",
       "      <td>1.0</td>\n",
       "      <td>False</td>\n",
       "      <td>False</td>\n",
       "    </tr>\n",
       "    <tr>\n",
       "      <th>5</th>\n",
       "      <td>62</td>\n",
       "      <td>0</td>\n",
       "      <td>0.0</td>\n",
       "      <td>4.0</td>\n",
       "      <td>False</td>\n",
       "      <td>1.0</td>\n",
       "      <td>50</td>\n",
       "      <td>0.0</td>\n",
       "      <td>NaN</td>\n",
       "      <td>False</td>\n",
       "      <td>False</td>\n",
       "    </tr>\n",
       "  </tbody>\n",
       "</table>\n",
       "</div>"
      ]
     },
     "execution_count": 3,
     "metadata": {},
     "output_type": "execute_result"
    }
   ],
   "execution_count": 3
  },
  {
   "metadata": {
    "ExecuteTime": {
     "end_time": "2025-01-11T02:55:26.267518Z",
     "start_time": "2025-01-11T02:55:26.198241Z"
    }
   },
   "cell_type": "code",
   "source": [
    "# Examine a histogram of the outcomes\n",
    "test_scores['score'].hist()\n",
    "\n",
    "plt.show()"
   ],
   "id": "4d64c1c866c79908",
   "outputs": [
    {
     "data": {
      "text/plain": [
       "<Figure size 640x480 with 1 Axes>"
      ],
      "image/png": "[encoded data removed]"
     },
     "metadata": {},
     "output_type": "display_data"
    }
   ],
   "execution_count": 4
  },
  {
   "metadata": {
    "ExecuteTime": {
     "end_time": "2025-01-11T02:55:26.294956Z",
     "start_time": "2025-01-11T02:55:26.290320Z"
    }
   },
   "cell_type": "code",
   "source": [
    "# Dropping missing values is, generally, a **very bad idea**. We do so\n",
    "# in this case for simplicity. Additionally, we convert all values to\n",
    "# floating point numbers.\n",
    "X = test_scores.dropna().astype(float)\n",
    "\n",
    "# The `DataFrame.pop()` method drops the specified item from the\n",
    "# `DataFrame` and returns the dropped items.\n",
    "y = X.pop('score')\n",
    "\n",
    "# Standardize the features\n",
    "X -= X.mean() # Centered at the mean\n",
    "X /= X.std() # Normalize to the standard deviation\n",
    "\n",
    "# I'm uncertain. What do `N` and `D` stand for?\n",
    "N, D = X.shape\n",
    "N, D"
   ],
   "id": "c8b40dd5a9c26eb4",
   "outputs": [
    {
     "data": {
      "text/plain": [
       "(101, 10)"
      ]
     },
     "execution_count": 5,
     "metadata": {},
     "output_type": "execute_result"
    }
   ],
   "execution_count": 5
  },
  {
   "metadata": {},
   "cell_type": "markdown",
   "source": "## The Model",
   "id": "af2f64f134fbdc8f"
  },
  {
   "metadata": {},
   "cell_type": "markdown",
   "source": [
    "This problem is a more realistic problem than our introductory\n",
    "linear regression problem. Specifically,\n",
    "\n",
    "- The problem is a **multivariate** regression problem\n",
    "- We do not know, _a priori_, which parameters are\n",
    "  relevant for constructing a statistical model.\n",
    "\n",
    "A number of approaches are available for solving the second issue;\n",
    "however, we will use _regularization_, a popular automated approach\n",
    "that penalizes ineffective co-variates by shrinking them toward zero\n",
    "if they do not contribute toward predicting outcomes.\n",
    "\n",
    "In a Bayesian context, instead of using methods like lasso or\n",
    "ridge regression, we apply an appropriate **prior** to the\n",
    "regression coefficients. One such prior is the _hierarchical\n",
    "regularized horseshoe_. This prior uses **two** regularization\n",
    "strategies:\n",
    "\n",
    "- One global\n",
    "- A set of local parameters - one for each coefficient\n",
    "\n",
    "The key to making this work is by selecting a [long-tailed\n",
    "distribution](https://en.wikipedia.org/wiki/Long_tail)\n",
    "as the shrinkage priors. This approach allows some priors(?)\n",
    "to be non-zero while pushing the rest toward zero.\n",
    "\n",
    "The horseshoe prior for each regression coefficient, $\\beta_{i}$,\n",
    "looks like:\n",
    "\n",
    "$$\n",
    "\\beta_{i} \\sim \\mathcal{N} ( 0, \\tau^{2} \\cdot \\widetilde{\\lambda}_{i}^{2})\n",
    "$$\n",
    "\n",
    "where $\\sigma$ is the prior on the error standard deviation that\n",
    "will also be used for the model likelihood.\n",
    "\n",
    "In this expression, $\\tau$ is the global shrinkage parameter and\n",
    "$\\widetilde{\\lambda}_{i}$ is the local shrinkage parameter.\n",
    "\n"
   ],
   "id": "1018c0044fbb145b"
  },
  {
   "metadata": {},
   "cell_type": "markdown",
   "source": [
    "Let's start global. For the prior on $\\tau$, we will use the\n",
    "Half-StudentT distribution. This choice is reasonable because\n",
    "it is heavy tailed.\n",
    "\n",
    "$$\n",
    "\\tau \\sim Half-StudentT_{2}(\\frac{D_{0}}{D - D_{0}} \\cdot \\frac{\\sigma}{\\sqrt N})\n",
    "$$\n",
    "\n",
    "One catch: our parameterization of the prior requires a constant,\n",
    "$D_{0}$, which represents the true number of non-zero parameters.\n",
    "Fortunately, we only need a reasonable guess and it only need to\n",
    "be within an order of magnitude of the true number. We'll use\n",
    "half the number of predictors as our guess:"
   ],
   "id": "5849a03560a901f3"
  },
  {
   "metadata": {
    "ExecuteTime": {
     "end_time": "2025-01-11T04:06:40.207418Z",
     "start_time": "2025-01-11T04:06:40.204353Z"
    }
   },
   "cell_type": "code",
   "source": "D0 = int(D / 2)",
   "id": "7b53759958ce49b7",
   "outputs": [],
   "execution_count": 7
  },
  {
   "metadata": {},
   "cell_type": "markdown",
   "source": [
    "The local shrinkage parameters are defined by the ratio\n",
    "\n",
    "$$\n",
    "\\widetilde{\\lambda}_{i}^{2} = \\frac{c^{2} \\lambda_{i}^{2}}{c^{2} + \\tau^{2} \\lambda_{i}^{2}}\n",
    "$$\n",
    "\n",
    "To complete this specification, we need priors on\n",
    "$\\lambda_{i}$ and $c$. Similar to the global shrinkage, we use\n",
    "a long-tailed Half-StudentT on the $\\lambda_{i}$. We need $c^{2}$\n",
    "to be strictly positive but not necessarily long-tailed.\n",
    "Consequently, we will use an inverse gamma prior on $c^{2}$\n",
    "where $c^{2} \\sim InverseGamma(1, 1)$.\n",
    "\n",
    "Finally, to allow the NUTS sampler to sample the $\\beta_{i}$\n",
    "more efficiently, we will **re-parameterize** as follows:\n",
    "\n",
    "$$\n",
    "\\begin{gather}\n",
    "z_{i} \\sim \\mathcal{N}(0, 1) \\\\\n",
    "\\beta_{i} = z_{i} \\cdot \\tau \\cdot \\widetilde{\\lambda}_{i}\n",
    "\\end{gather}\n",
    "$$\n",
    "\n",
    "You will often encounter this re-parameterization in practice."
   ],
   "id": "715c5abfb308a44"
  },
  {
   "metadata": {},
   "cell_type": "markdown",
   "source": "### Model Specification",
   "id": "83d06749134836e5"
  },
  {
   "metadata": {},
   "cell_type": "markdown",
   "source": [
    "Specifying the model in PyMC mirrors its statistical specification.\n",
    "This model employs a couple of new distributions: the\n",
    "[HalfStudentT](https://www.pymc.io/projects/docs/en/latest/api/distributions/generated/pymc.HalfStudentT.html#pymc.HalfStudentT)\n",
    "distribution for the $\\tau$ and $\\lambda$ priors, and the\n",
    "[InverseGamma](https://www.pymc.io/projects/docs/en/latest/api/distributions/generated/pymc.InverseGamma.html#pymc.InverseGamma)\n",
    "distribution for the $c^2$ variable.\n",
    "\n",
    "In PyMC, variables with purely positive values like\n",
    "[InverseGamma](https://www.pymc.io/projects/docs/en/latest/api/distributions/generated/pymc.InverseGamma.html#pymc.InverseGamma)\n",
    "are transformed with a log transform. This transformation makes\n",
    "sampling more robust. Behind the scenes, a variable in the\n",
    "unconstrained unconstrained space (named `<variable-name>_log`)\n",
    "is added to the model for sampling. Variables with priors that\n",
    "constrain them on two sides, like\n",
    "[Beta](https://www.pymc.io/projects/docs/en/latest/api/distributions/generated/pymc.Beta.html#pymc.Beta)\n",
    "or\n",
    "[Uniform](https://www.pymc.io/projects/docs/en/latest/api/distributions/generated/pymc.Uniform.html#pymc.Uniform),\n",
    "are also transformed to be unconstrained but with a\n",
    "log odds transform.\n",
    "\n",
    "We are also going to take advantage of named dimensions in\n",
    "PyMC and ArviZ by passing input variable names into the model as\n",
    "coordinates called \"predictors.\" This implementation allows us\n",
    "to pass this vector of names as a replacement for the `shape`\n",
    "integer argument in the vector-valued parameters. The model\n",
    "will then associate the appropriate name for each latent\n",
    "parameter that it is estimating. This implementation is a little\n",
    "more work to set up, but will pay dividends later when we are\n",
    "working with our model output.\n",
    "\n",
    "Let's encode this model in PyMC."
   ],
   "id": "ebe3d0951f4a9fb9"
  },
  {
   "metadata": {
    "ExecuteTime": {
     "end_time": "2025-01-11T04:06:46.525490Z",
     "start_time": "2025-01-11T04:06:46.481667Z"
    }
   },
   "cell_type": "code",
   "source": [
    "import pytensor.tensor as pt\n",
    "\n",
    "with pm.Model(coords={'predictors': X.columns.values}) as test_score_model:\n",
    "    # Prior on error standard deviation\n",
    "    sigma = pm.HalfNormal('sigma', 25)\n",
    "\n",
    "    # Global shrinkage prior\n",
    "    tau = pm.HalfStudentT('tau', 2, D0 / (D - D0) * sigma / pt.sqrt(N))\n",
    "\n",
    "    # Local shrinkage prior\n",
    "    lam = pm.HalfStudentT('lam', 5, dims='predictors')\n",
    "    c2 = pm.InverseGamma('c2', 1, 1)\n",
    "    z = pm.Normal('z', 0.0, 1.0, dims='predictors')\n",
    "\n",
    "    # Shrunken coefficients\n",
    "    beta = pm.Deterministic(\n",
    "        'beta',\n",
    "        z * tau * lam * pt.sqrt(c2 / (c2 * tau**2 * lam**2)),\n",
    "        dims='predictors'\n",
    "    )\n",
    "\n",
    "    # No shrinkage on intercept\n",
    "    beta0 = pm.Normal('beta0', 100, 25.0)\n",
    "\n",
    "    scores = pm.Normal('scores', beta0 + pt.dot(X.values, beta), sigma,\n",
    "                       observed=y.values)"
   ],
   "id": "fd7a763f0a84f2a1",
   "outputs": [],
   "execution_count": 8
  },
  {
   "metadata": {},
   "cell_type": "markdown",
   "source": [
    "Notice that we have wrapped the calculation of `beta` in a\n",
    "`Deterministic` PyMC class. You can read more about this\n",
    "implementation in detail below, but this wrapping ensures\n",
    "that the values of this deterministic variable is retained\n",
    "in e sample trace.\n",
    "\n",
    "Also note that we have declared the `Model` name `test_score_model`\n",
    "in the first occurrence of the context manager, rather than\n",
    "splitting it into two lines, as we did for the first example.\n",
    "\n",
    "Once the model is complete, we can look at its structure using\n",
    "GraphViz, which plots the model graph. It's useful to ensure that\n",
    "the relationships in the model you have coded are correct, as it's\n",
    "easy to make a coding mistake.\n"
   ],
   "id": "1ba2fb628743ce36"
  },
  {
   "metadata": {
    "ExecuteTime": {
     "end_time": "2025-01-11T04:15:07.422729Z",
     "start_time": "2025-01-11T04:15:05.095703Z"
    }
   },
   "cell_type": "code",
   "source": " pm.model_to_graphviz(test_score_model)",
   "id": "9a79345260ea8600",
   "outputs": [
    {
     "data": {
      "image/svg+xml": "<?xml version=\"1.0\" encoding=\"UTF-8\" standalone=\"no\"?>\n<!DOCTYPE svg PUBLIC \"-//W3C//DTD SVG 1.1//EN\"\n \"http://www.w3.org/Graphics/SVG/1.1/DTD/svg11.dtd\">\n<!-- Generated by graphviz version 12.0.0 (0)\n -->\n<!-- Pages: 1 -->\n<svg width=\"531pt\" height=\"482pt\"\n viewBox=\"0.00 0.00 531.01 482.36\" xmlns=\"http://www.w3.org/2000/svg\" xmlns:xlink=\"http://www.w3.org/1999/xlink\">\n<g id=\"graph0\" class=\"graph\" transform=\"scale(1 1) rotate(0) translate(4 478.36)\">\n<polygon fill=\"white\" stroke=\"none\" points=\"-4,4 -4,-478.36 527.01,-478.36 527.01,4 -4,4\"/>\n<g id=\"clust1\" class=\"cluster\">\n<title>clusterpredictors (10)</title>\n<path fill=\"none\" stroke=\"black\" d=\"M149.29,-137.82C149.29,-137.82 367.29,-137.82 367.29,-137.82 373.29,-137.82 379.29,-143.82 379.29,-149.82 379.29,-149.82 379.29,-353.04 379.29,-353.04 379.29,-359.04 373.29,-365.04 367.29,-365.04 367.29,-365.04 149.29,-365.04 149.29,-365.04 143.29,-365.04 137.29,-359.04 137.29,-353.04 137.29,-353.04 137.29,-149.82 137.29,-149.82 137.29,-143.82 143.29,-137.82 149.29,-137.82\"/>\n<text text-anchor=\"middle\" x=\"331.16\" y=\"-145.02\" font-family=\"Times,serif\" font-size=\"14.00\">predictors (10)</text>\n</g>\n<g id=\"clust2\" class=\"cluster\">\n<title>cluster101</title>\n<path fill=\"none\" stroke=\"black\" d=\"M230.29,-8C230.29,-8 304.29,-8 304.29,-8 310.29,-8 316.29,-14 316.29,-20 316.29,-20 316.29,-117.82 316.29,-117.82 316.29,-123.82 310.29,-129.82 304.29,-129.82 304.29,-129.82 230.29,-129.82 230.29,-129.82 224.29,-129.82 218.29,-123.82 218.29,-117.82 218.29,-117.82 218.29,-20 218.29,-20 218.29,-14 224.29,-8 230.29,-8\"/>\n<text text-anchor=\"middle\" x=\"298.16\" y=\"-15.2\" font-family=\"Times,serif\" font-size=\"14.00\">101</text>\n</g>\n<!-- tau -->\n<g id=\"node1\" class=\"node\">\n<title>tau</title>\n<ellipse fill=\"none\" stroke=\"black\" cx=\"63.29\" cy=\"-316.38\" rx=\"63.29\" ry=\"40.66\"/>\n<text text-anchor=\"middle\" x=\"63.29\" y=\"-327.83\" font-family=\"Times,serif\" font-size=\"14.00\">tau</text>\n<text text-anchor=\"middle\" x=\"63.29\" y=\"-311.33\" font-family=\"Times,serif\" font-size=\"14.00\">~</text>\n<text text-anchor=\"middle\" x=\"63.29\" y=\"-294.83\" font-family=\"Times,serif\" font-size=\"14.00\">HalfStudentT</text>\n</g>\n<!-- beta -->\n<g id=\"node6\" class=\"node\">\n<title>beta</title>\n<polygon fill=\"none\" stroke=\"black\" points=\"312.41,-227.82 222.16,-227.82 222.16,-170.32 312.41,-170.32 312.41,-227.82\"/>\n<text text-anchor=\"middle\" x=\"267.29\" y=\"-210.52\" font-family=\"Times,serif\" font-size=\"14.00\">beta</text>\n<text text-anchor=\"middle\" x=\"267.29\" y=\"-194.02\" font-family=\"Times,serif\" font-size=\"14.00\">~</text>\n<text text-anchor=\"middle\" x=\"267.29\" y=\"-177.52\" font-family=\"Times,serif\" font-size=\"14.00\">Deterministic</text>\n</g>\n<!-- tau&#45;&gt;beta -->\n<g id=\"edge4\" class=\"edge\">\n<title>tau&#45;&gt;beta</title>\n<path fill=\"none\" stroke=\"black\" d=\"M110.35,-288.71C118.01,-284.37 125.87,-279.92 133.29,-275.73 159.14,-261.1 187.81,-244.91 211.98,-231.27\"/>\n<polygon fill=\"black\" stroke=\"black\" points=\"213.38,-234.5 220.37,-226.53 209.94,-228.4 213.38,-234.5\"/>\n</g>\n<!-- beta0 -->\n<g id=\"node2\" class=\"node\">\n<title>beta0</title>\n<ellipse fill=\"none\" stroke=\"black\" cx=\"88.29\" cy=\"-199.07\" rx=\"41.01\" ry=\"40.66\"/>\n<text text-anchor=\"middle\" x=\"88.29\" y=\"-210.52\" font-family=\"Times,serif\" font-size=\"14.00\">beta0</text>\n<text text-anchor=\"middle\" x=\"88.29\" y=\"-194.02\" font-family=\"Times,serif\" font-size=\"14.00\">~</text>\n<text text-anchor=\"middle\" x=\"88.29\" y=\"-177.52\" font-family=\"Times,serif\" font-size=\"14.00\">Normal</text>\n</g>\n<!-- scores -->\n<g id=\"node8\" class=\"node\">\n<title>scores</title>\n<ellipse fill=\"lightgrey\" stroke=\"black\" cx=\"267.29\" cy=\"-81.16\" rx=\"41.01\" ry=\"40.66\"/>\n<text text-anchor=\"middle\" x=\"267.29\" y=\"-92.61\" font-family=\"Times,serif\" font-size=\"14.00\">scores</text>\n<text text-anchor=\"middle\" x=\"267.29\" y=\"-76.11\" font-family=\"Times,serif\" font-size=\"14.00\">~</text>\n<text text-anchor=\"middle\" x=\"267.29\" y=\"-59.61\" font-family=\"Times,serif\" font-size=\"14.00\">Normal</text>\n</g>\n<!-- beta0&#45;&gt;scores -->\n<g id=\"edge6\" class=\"edge\">\n<title>beta0&#45;&gt;scores</title>\n<path fill=\"none\" stroke=\"black\" d=\"M109.05,-163.71C115.88,-154.41 124.12,-144.95 133.29,-137.82 157.92,-118.64 190.11,-104.99 216.76,-96\"/>\n<polygon fill=\"black\" stroke=\"black\" points=\"217.55,-99.43 225.99,-93.02 215.39,-92.77 217.55,-99.43\"/>\n</g>\n<!-- sigma -->\n<g id=\"node3\" class=\"node\">\n<title>sigma</title>\n<ellipse fill=\"none\" stroke=\"black\" cx=\"295.29\" cy=\"-433.7\" rx=\"57.98\" ry=\"40.66\"/>\n<text text-anchor=\"middle\" x=\"295.29\" y=\"-445.15\" font-family=\"Times,serif\" font-size=\"14.00\">sigma</text>\n<text text-anchor=\"middle\" x=\"295.29\" y=\"-428.65\" font-family=\"Times,serif\" font-size=\"14.00\">~</text>\n<text text-anchor=\"middle\" x=\"295.29\" y=\"-412.15\" font-family=\"Times,serif\" font-size=\"14.00\">HalfNormal</text>\n</g>\n<!-- sigma&#45;&gt;tau -->\n<g id=\"edge1\" class=\"edge\">\n<title>sigma&#45;&gt;tau</title>\n<path fill=\"none\" stroke=\"black\" d=\"M244.08,-414.37C211.58,-402 169.06,-384.43 133.29,-365.04 126.86,-361.56 120.29,-357.63 113.87,-353.56\"/>\n<polygon fill=\"black\" stroke=\"black\" points=\"116.18,-350.89 105.89,-348.36 112.36,-356.75 116.18,-350.89\"/>\n</g>\n<!-- sigma&#45;&gt;scores -->\n<g id=\"edge8\" class=\"edge\">\n<title>sigma&#45;&gt;scores</title>\n<path fill=\"none\" stroke=\"black\" d=\"M353.47,-431.97C403.55,-427.86 473.12,-413.11 508.29,-365.04 531.72,-333.01 522.57,-312.76 508.29,-275.73 478.51,-198.55 449.59,-187.28 383.29,-137.82 362.9,-122.61 337.7,-109.92 316,-100.51\"/>\n<polygon fill=\"black\" stroke=\"black\" points=\"317.64,-97.41 307.06,-96.75 314.92,-103.86 317.64,-97.41\"/>\n</g>\n<!-- c2 -->\n<g id=\"node4\" class=\"node\">\n<title>c2</title>\n<ellipse fill=\"none\" stroke=\"black\" cx=\"444.29\" cy=\"-316.38\" rx=\"55.33\" ry=\"40.66\"/>\n<text text-anchor=\"middle\" x=\"444.29\" y=\"-327.83\" font-family=\"Times,serif\" font-size=\"14.00\">c2</text>\n<text text-anchor=\"middle\" x=\"444.29\" y=\"-311.33\" font-family=\"Times,serif\" font-size=\"14.00\">~</text>\n<text text-anchor=\"middle\" x=\"444.29\" y=\"-294.83\" font-family=\"Times,serif\" font-size=\"14.00\">InvGamma</text>\n</g>\n<!-- c2&#45;&gt;beta -->\n<g id=\"edge5\" class=\"edge\">\n<title>c2&#45;&gt;beta</title>\n<path fill=\"none\" stroke=\"black\" d=\"M403.23,-288.64C378.49,-272.52 346.73,-251.83 320.13,-234.5\"/>\n<polygon fill=\"black\" stroke=\"black\" points=\"322.14,-231.63 311.85,-229.1 318.32,-237.49 322.14,-231.63\"/>\n</g>\n<!-- lam -->\n<g id=\"node5\" class=\"node\">\n<title>lam</title>\n<ellipse fill=\"none\" stroke=\"black\" cx=\"208.29\" cy=\"-316.38\" rx=\"63.29\" ry=\"40.66\"/>\n<text text-anchor=\"middle\" x=\"208.29\" y=\"-327.83\" font-family=\"Times,serif\" font-size=\"14.00\">lam</text>\n<text text-anchor=\"middle\" x=\"208.29\" y=\"-311.33\" font-family=\"Times,serif\" font-size=\"14.00\">~</text>\n<text text-anchor=\"middle\" x=\"208.29\" y=\"-294.83\" font-family=\"Times,serif\" font-size=\"14.00\">HalfStudentT</text>\n</g>\n<!-- lam&#45;&gt;beta -->\n<g id=\"edge2\" class=\"edge\">\n<title>lam&#45;&gt;beta</title>\n<path fill=\"none\" stroke=\"black\" d=\"M227.77,-277.31C234.17,-264.8 241.28,-250.9 247.69,-238.38\"/>\n<polygon fill=\"black\" stroke=\"black\" points=\"250.74,-240.09 252.18,-229.59 244.51,-236.9 250.74,-240.09\"/>\n</g>\n<!-- beta&#45;&gt;scores -->\n<g id=\"edge7\" class=\"edge\">\n<title>beta&#45;&gt;scores</title>\n<path fill=\"none\" stroke=\"black\" d=\"M267.29,-170.01C267.29,-159.03 267.29,-146.08 267.29,-133.55\"/>\n<polygon fill=\"black\" stroke=\"black\" points=\"270.79,-133.74 267.29,-123.74 263.79,-133.74 270.79,-133.74\"/>\n</g>\n<!-- z -->\n<g id=\"node7\" class=\"node\">\n<title>z</title>\n<ellipse fill=\"none\" stroke=\"black\" cx=\"330.29\" cy=\"-316.38\" rx=\"41.01\" ry=\"40.66\"/>\n<text text-anchor=\"middle\" x=\"330.29\" y=\"-327.83\" font-family=\"Times,serif\" font-size=\"14.00\">z</text>\n<text text-anchor=\"middle\" x=\"330.29\" y=\"-311.33\" font-family=\"Times,serif\" font-size=\"14.00\">~</text>\n<text text-anchor=\"middle\" x=\"330.29\" y=\"-294.83\" font-family=\"Times,serif\" font-size=\"14.00\">Normal</text>\n</g>\n<!-- z&#45;&gt;beta -->\n<g id=\"edge3\" class=\"edge\">\n<title>z&#45;&gt;beta</title>\n<path fill=\"none\" stroke=\"black\" d=\"M311.04,-280.16C303.78,-266.86 295.48,-251.67 288.08,-238.12\"/>\n<polygon fill=\"black\" stroke=\"black\" points=\"291.21,-236.56 283.35,-229.47 285.07,-239.92 291.21,-236.56\"/>\n</g>\n</g>\n</svg>\n",
      "text/plain": [
       "<graphviz.graphs.Digraph at 0x154bf1f40>"
      ]
     },
     "execution_count": 9,
     "metadata": {},
     "output_type": "execute_result"
    }
   ],
   "execution_count": 9
  },
  {
   "metadata": {},
   "cell_type": "code",
   "outputs": [],
   "execution_count": null,
   "source": "",
   "id": "b25ce957a02c52ff"
  }
 ],
 "metadata": {
  "kernelspec": {
   "display_name": "Python 3",
   "language": "python",
   "name": "python3"
  },
  "language_info": {
   "codemirror_mode": {
    "name": "ipython",
    "version": 2
   },
   "file_extension": ".py",
   "mimetype": "text/x-python",
   "name": "python",
   "nbconvert_exporter": "python",
   "pygments_lexer": "ipython2",
   "version": "2.7.6"
  }
 },
 "nbformat": 4,
 "nbformat_minor": 5
}
