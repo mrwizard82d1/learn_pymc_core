{
 "cells": [
  {
   "metadata": {},
   "cell_type": "markdown",
   "source": "# Case Study 1: Educational Outcomes for Hearing-impaired Children",
   "id": "f512c9b5806cab3e"
  },
  {
   "cell_type": "code",
   "id": "initial_id",
   "metadata": {
    "collapsed": true
   },
   "source": [
    "# Import data analysis packages\n",
    "import numpy as np\n",
    "import matplotlib.pyplot as plt\n",
    "import pandas as pd"
   ],
   "outputs": [],
   "execution_count": null
  },
  {
   "metadata": {},
   "cell_type": "code",
   "source": [
    "# Import pymc modules\n",
    "import arviz as av\n",
    "import pymc as pm"
   ],
   "id": "12eed4d2d02f4e4e",
   "outputs": [],
   "execution_count": null
  },
  {
   "metadata": {},
   "cell_type": "markdown",
   "source": [
    "Here, we are interested in determining factors associated with\n",
    "better or poorer learning outcomes."
   ],
   "id": "6558273e2611421e"
  },
  {
   "metadata": {},
   "cell_type": "markdown",
   "source": "## The Data",
   "id": "bf2124e6a20de1b5"
  },
  {
   "metadata": {},
   "cell_type": "markdown",
   "source": [
    "The anonymized dataset is taken from the Listening and\n",
    "Spoken Language Data Repository (LSL-DR), an international data repository.\n",
    "\n",
    "The anonymized data set tracks the demographics and longitudinal\n",
    "outcomes for children who have hearing loss and are enrolled in\n",
    "programs focused on supporting listening and spoken language\n",
    "development. Researchers are interested in discovering factors\n",
    "related to improvements in educational outcomes within these programs.\n",
    "\n",
    "The data set contains a suite of available predictors including:\n",
    "\n",
    "- Gender (`male`)\n",
    "- Number of household siblings (`siblings`)\n",
    "- Index of family involvement (`family_inv`)\n",
    "- Whether the primary household language is not English (`non_english`)\n",
    "- Presence of a previous disability (`prev_disab`)\n",
    "- Non-white race (`non_white`)\n",
    "- Age at time of testing (in months, `age_test`)\n",
    "- Whether hearing loss is not severe (`non_severe_hl`)\n",
    "- Whether the subject's mother obtained a high school diploma or better (`mother_hs`)\n",
    "- Whether the hearing impairment was identified by 3 months of age (`early_ident`)"
   ],
   "id": "22a26e8aed8d73e6"
  },
  {
   "metadata": {},
   "cell_type": "markdown",
   "source": [
    "The outcome variable is a standardized test score in one of several\n",
    "learning domains."
   ],
   "id": "6a351b4c06ce99a8"
  },
  {
   "metadata": {},
   "cell_type": "code",
   "source": [
    "# Load the test scores to be analyzed.\n",
    "test_scores = pd.read_csv(pm.get_data('test_scores.csv'), index_col=0)\n",
    "test_scores.head()"
   ],
   "id": "b726bd82d1f296d5",
   "outputs": [],
   "execution_count": null
  },
  {
   "metadata": {},
   "cell_type": "code",
   "source": [
    "# Examine a histogram of the outcomes\n",
    "test_scores['score'].hist()\n",
    "\n",
    "plt.show()"
   ],
   "id": "4d64c1c866c79908",
   "outputs": [],
   "execution_count": null
  },
  {
   "metadata": {},
   "cell_type": "code",
   "source": [
    "# Dropping missing values is, generally, a **very bad idea**. We do so\n",
    "# in this case for simplicity. Additionally, we convert all values to\n",
    "# floating point numbers.\n",
    "X = test_scores.dropna().astype(float)\n",
    "\n",
    "# The `DataFrame.pop()` method drops the specified item from the\n",
    "# `DataFrame` and returns the dropped items.\n",
    "y = X.pop('score')\n",
    "\n",
    "# Standardize the features\n",
    "X -= X.mean() # Centered at the mean\n",
    "X /= X.std() # Normalize to the standard deviation\n",
    "\n",
    "# I'm uncertain. What do `N` and `D` stand for?\n",
    "N, D = X.shape\n",
    "N, D"
   ],
   "id": "c8b40dd5a9c26eb4",
   "outputs": [],
   "execution_count": null
  },
  {
   "metadata": {},
   "cell_type": "code",
   "source": "",
   "id": "74cb9b5b6402001f",
   "outputs": [],
   "execution_count": null
  }
 ],
 "metadata": {
  "kernelspec": {
   "display_name": "Python 3",
   "language": "python",
   "name": "python3"
  },
  "language_info": {
   "codemirror_mode": {
    "name": "ipython",
    "version": 2
   },
   "file_extension": ".py",
   "mimetype": "text/x-python",
   "name": "python",
   "nbconvert_exporter": "python",
   "pygments_lexer": "ipython2",
   "version": "2.7.6"
  }
 },
 "nbformat": 4,
 "nbformat_minor": 5
}
