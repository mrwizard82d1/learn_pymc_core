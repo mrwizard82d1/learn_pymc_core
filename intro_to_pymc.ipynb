{
 "cells": [
  {
   "metadata": {},
   "cell_type": "markdown",
   "source": "# Introductory Overview of PyMC",
   "id": "d583a47adaf1aa02"
  },
  {
   "metadata": {},
   "cell_type": "markdown",
   "source": "## A Motivating Example: Linear Regression",
   "id": "e56fccbeddbf871c"
  },
  {
   "metadata": {},
   "cell_type": "markdown",
   "source": [
    "This notebook introduces model\n",
    "\n",
    "- Definition\n",
    "- Fitting\n",
    "- Posterior analysis\n",
    "\n",
    "For this introduction, we consider a simple Bayesian linear regression\n",
    "model with normally-distributed priors for the parameters. Specifically,\n",
    "we are interested in predicting outcomes, $Y$, as normally distributed\n",
    "observations with an expected value, $\\mu$, that is a linear function of\n",
    "two predictor variables, $X_{1}$ and $X_{2}$:\n",
    "\n",
    "$$\n",
    "\\begin{gather}\n",
    "Y \\sim \\mathcal{N}(\\mu, \\sigma^2) \\\\\n",
    "\\mu = \\alpha + \\beta_{1} X_{1} + \\beta_{2} X_{2}\n",
    "\\end{gather}\n",
    "$$\n",
    "\n",
    "where $\\alpha$ is the intercept, $\\beta_{i}$ is the coefficient\n",
    "for covariate $X_{i}$, and $\\sigma$ represents the observation error.\n",
    "\n",
    "Since we are constructing a Bayesian model, we must assign a\n",
    "prior **distributions** for each unknown variable in the model.\n",
    "\n",
    "We choose zero-mean normal priors with a variance of 100 for both\n",
    "regression coefficients. This choice corresponds to **weak**\n",
    "information about the **true** parameter values. Additionally, we\n",
    "choose a half-normal distribution as the prior for $\\sigma$.\n",
    "\n",
    "$$\n",
    "\\begin{gather}\n",
    "\\alpha \\sim \\mathcal{N}(0, 100) \\\\\n",
    "\\beta_{i} \\sim \\mathcal{N}(0, 100) \\\\\n",
    "\\sigma \\sim | \\mathcal{N}(0, 1) |\n",
    "\\end{gather}\n",
    "$$"
   ],
   "id": "fca4e003d65f141f"
  },
  {
   "metadata": {},
   "cell_type": "markdown",
   "source": "### Generating data",
   "id": "6b5e78d1c56c77e7"
  },
  {
   "metadata": {},
   "cell_type": "markdown",
   "source": [
    "We can simulate some artificial data using `numpy.random`.\n",
    "After simulating artificial data, we will use PyMC to try\n",
    "to recover the corresponding parameters.\n",
    "\n",
    "Intentionally, we are generating data to closely corresponding\n",
    "to the PyMC model structure."
   ],
   "id": "3bdb9e0f3dbe5fab"
  },
  {
   "metadata": {},
   "cell_type": "markdown",
   "source": "#### Initialize our \"environment\"",
   "id": "2bf9daaee6edae6b"
  },
  {
   "metadata": {},
   "cell_type": "code",
   "source": [
    "# Import the necessary packages\n",
    "import arviz as az\n",
    "import matplotlib.pyplot as plt\n",
    "import numpy as np\n",
    "import pandas as pd"
   ],
   "id": "f14630307b077f2f",
   "outputs": [],
   "execution_count": null
  },
  {
   "metadata": {},
   "cell_type": "code",
   "source": [
    "# Configure the retina inline backend\n",
    "%config InlineBackend.figure_format = 'retina'"
   ],
   "id": "e64b8cc3e0f65858",
   "outputs": [],
   "execution_count": null
  },
  {
   "metadata": {},
   "cell_type": "code",
   "source": [
    "# Initialize our repeatable random number generator\n",
    "RANDOM_SEED = 8927\n",
    "rng = np.random.default_rng(RANDOM_SEED)"
   ],
   "id": "9d2d3162c94166b4",
   "outputs": [],
   "execution_count": null
  },
  {
   "metadata": {},
   "cell_type": "code",
   "source": [
    "# Use a dark grid for visualization\n",
    "az.style.use('arviz-darkgrid')"
   ],
   "id": "a4af73542d4391e2",
   "outputs": [],
   "execution_count": null
  },
  {
   "metadata": {},
   "cell_type": "markdown",
   "source": "#### Initialize the (simulated) \"actual\" data",
   "id": "4662385d1eaa8ee5"
  },
  {
   "metadata": {},
   "cell_type": "code",
   "source": [
    "# True parameter values\n",
    "alpha = 1\n",
    "sigma = 1\n",
    "beta = [1, 2.5]\n",
    "\n",
    "# Size of dataset\n",
    "size = 100\n",
    "\n",
    "# Predictor variables\n",
    "X = np.random.randn(size), np.random.randn(size) * 0.2\n",
    "\n",
    "# Simulate the observed outcome variables\n",
    "Y = alpha + beta[0] * X[0] + beta[1] * X[1] + rng.normal(size=size) * sigma"
   ],
   "id": "4ece7fd5c5e3da64",
   "outputs": [],
   "execution_count": null
  },
  {
   "metadata": {},
   "cell_type": "markdown",
   "source": "Let's visualize the (simualted) \"real\" data.",
   "id": "33cbfef4cf92ff1"
  },
  {
   "metadata": {},
   "cell_type": "code",
   "source": [
    "fig, axes = plt.subplots(1, 2, sharex=True, figsize=(10, 4))\n",
    "axes[0].scatter(X[0], Y, alpha=0.6)\n",
    "axes[1].scatter(X[1], Y, alpha=0.6)\n",
    "axes[0].set_ylabel('Y')\n",
    "axes[0].set_xlabel('X0')\n",
    "axes[1].set_xlabel('X1')\n",
    "plt.show()"
   ],
   "id": "abf653871feb16e0",
   "outputs": [],
   "execution_count": null
  },
  {
   "metadata": {},
   "cell_type": "code",
   "source": "",
   "id": "b1f0e9f446476e80",
   "outputs": [],
   "execution_count": null
  }
 ],
 "metadata": {
  "kernelspec": {
   "display_name": "Python 3",
   "language": "python",
   "name": "python3"
  },
  "language_info": {
   "codemirror_mode": {
    "name": "ipython",
    "version": 2
   },
   "file_extension": ".py",
   "mimetype": "text/x-python",
   "name": "python",
   "nbconvert_exporter": "python",
   "pygments_lexer": "ipython2",
   "version": "2.7.6"
  }
 },
 "nbformat": 4,
 "nbformat_minor": 5
}
