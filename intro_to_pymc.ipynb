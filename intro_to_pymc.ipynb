{
 "cells": [
  {
   "metadata": {},
   "cell_type": "markdown",
   "source": "# Introductory Overview of PyMC",
   "id": "d583a47adaf1aa02"
  },
  {
   "metadata": {},
   "cell_type": "markdown",
   "source": "## A Motivating Example: Linear Regression",
   "id": "e56fccbeddbf871c"
  },
  {
   "metadata": {},
   "cell_type": "markdown",
   "source": [
    "This notebook introduces model\n",
    "\n",
    "- Definition\n",
    "- Fitting\n",
    "- Posterior analysis\n",
    "\n",
    "For this introduction, we consider a simple Bayesian linear regression\n",
    "model with normally-distributed priors for the parameters. Specifically,\n",
    "we are interested in predicting outcomes, $Y$, as normally distributed\n",
    "observations with an expected value, $\\mu$, that is a linear function of\n",
    "two predictor variables, $X_{1}$ and $X_{2}$:\n",
    "\n",
    "$$\n",
    "\\begin{gather}\n",
    "Y \\sim \\mathcal{N}(\\mu, \\sigma^2) \\\\\n",
    "\\mu = \\alpha + \\beta_{1} X_{1} + \\beta_{2} X_{2}\n",
    "\\end{gather}\n",
    "$$\n",
    "\n",
    "where $\\alpha$ is the intercept, $\\beta_{i}$ is the coefficient\n",
    "for covariate $X_{i}$, and $\\sigma$ represents the observation error.\n",
    "\n",
    "Since we are constructing a Bayesian model, we must assign a\n",
    "prior **distributions** for each unknown variable in the model.\n",
    "\n",
    "We choose zero-mean normal priors with a variance of 100 for both\n",
    "regression coefficients. This choice corresponds to **weak**\n",
    "information about the **true** parameter values. Additionally, we\n",
    "choose a half-normal distribution as the prior for $\\sigma$.\n",
    "\n",
    "$$\n",
    "\\begin{gather}\n",
    "\\alpha \\sim \\mathcal{N}(0, 100) \\\\\n",
    "\\beta_{i} \\sim \\mathcal{N}(0, 100) \\\\\n",
    "\\sigma \\sim | \\mathcal{N}(0, 1) |\n",
    "\\end{gather}\n",
    "$$"
   ],
   "id": "fca4e003d65f141f"
  },
  {
   "metadata": {},
   "cell_type": "markdown",
   "source": "### Generating data",
   "id": "6b5e78d1c56c77e7"
  },
  {
   "metadata": {},
   "cell_type": "markdown",
   "source": [
    "We can simulate some artificial data using `numpy.random`.\n",
    "After simulating artificial data, we will use PyMC to try\n",
    "to recover the corresponding parameters.\n",
    "\n",
    "Intentionally, we are generating data to closely corresponding\n",
    "to the PyMC model structure."
   ],
   "id": "3bdb9e0f3dbe5fab"
  },
  {
   "metadata": {},
   "cell_type": "markdown",
   "source": "#### Initialize our \"environment\"",
   "id": "2bf9daaee6edae6b"
  },
  {
   "metadata": {},
   "cell_type": "code",
   "source": [
    "# Import the necessary packages\n",
    "import arviz as az\n",
    "import matplotlib.pyplot as plt\n",
    "import numpy as np\n",
    "import pandas as pd"
   ],
   "id": "f14630307b077f2f",
   "outputs": [],
   "execution_count": null
  },
  {
   "metadata": {},
   "cell_type": "code",
   "source": [
    "# Configure the retina inline backend\n",
    "%config InlineBackend.figure_format = 'retina'"
   ],
   "id": "e64b8cc3e0f65858",
   "outputs": [],
   "execution_count": null
  },
  {
   "metadata": {},
   "cell_type": "code",
   "source": [
    "# Initialize our repeatable random number generator\n",
    "RANDOM_SEED = 8927\n",
    "rng = np.random.default_rng(RANDOM_SEED)"
   ],
   "id": "9d2d3162c94166b4",
   "outputs": [],
   "execution_count": null
  },
  {
   "metadata": {},
   "cell_type": "code",
   "source": [
    "# Use a dark grid for visualization\n",
    "az.style.use('arviz-darkgrid')"
   ],
   "id": "a4af73542d4391e2",
   "outputs": [],
   "execution_count": null
  },
  {
   "metadata": {},
   "cell_type": "markdown",
   "source": "#### Initialize the (simulated) \"actual\" data",
   "id": "4662385d1eaa8ee5"
  },
  {
   "metadata": {},
   "cell_type": "code",
   "source": [
    "# True parameter values\n",
    "alpha = 1\n",
    "sigma = 1\n",
    "beta = [1, 2.5]\n",
    "\n",
    "# Size of dataset\n",
    "size = 100\n",
    "\n",
    "# Predictor variables\n",
    "X = np.random.randn(size), np.random.randn(size) * 0.2\n",
    "\n",
    "# Simulate the observed outcome variables\n",
    "Y = alpha + beta[0] * X[0] + beta[1] * X[1] + rng.normal(size=size) * sigma"
   ],
   "id": "4ece7fd5c5e3da64",
   "outputs": [],
   "execution_count": null
  },
  {
   "metadata": {},
   "cell_type": "markdown",
   "source": "Let's visualize the (simualted) \"real\" data.",
   "id": "33cbfef4cf92ff1"
  },
  {
   "metadata": {},
   "cell_type": "code",
   "source": [
    "fig, axes = plt.subplots(1, 2, sharex=True, figsize=(10, 4))\n",
    "axes[0].scatter(X[0], Y, alpha=0.6)\n",
    "axes[1].scatter(X[1], Y, alpha=0.6)\n",
    "axes[0].set_ylabel('Y')\n",
    "axes[0].set_xlabel('X0')\n",
    "axes[1].set_xlabel('X1')\n",
    "plt.show()"
   ],
   "id": "abf653871feb16e0",
   "outputs": [],
   "execution_count": null
  },
  {
   "metadata": {},
   "cell_type": "markdown",
   "source": "### Model specification",
   "id": "4c383d1b55fc0772"
  },
  {
   "metadata": {},
   "cell_type": "markdown",
   "source": [
    "Specifying a model in PyMC is straightforward because\n",
    "the PyMC syntax is very similar to the (mathematical)\n",
    "statistical notation."
   ],
   "id": "e8b59e83ae1175d8"
  },
  {
   "metadata": {},
   "cell_type": "code",
   "source": [
    "# First, import PyMC.\n",
    "import pymc as pm\n",
    "\n",
    "print(f'Running on PyMC version {pm.__version__}')"
   ],
   "id": "2cc856debb03239a",
   "outputs": [],
   "execution_count": null
  },
  {
   "metadata": {},
   "cell_type": "markdown",
   "source": "We build our first model completely and then explain it line-by-line.",
   "id": "5d2aa107774f9689"
  },
  {
   "metadata": {},
   "cell_type": "code",
   "source": [
    "basic_model = pm.Model()\n",
    "\n",
    "with basic_model:\n",
    "    # Priors for unknown model parameters\n",
    "    alpha = pm.Normal('alpha', mu=0, sigma=10)\n",
    "    beta = pm.Normal('beta', mu=0, sigma=10, shape=2)\n",
    "    sigma = pm.HalfNormal('sigma', sigma=1)\n",
    "\n",
    "    # Expected value(s) of the outcome\n",
    "    mu = alpha + beta[0] * X[0] + beta[1] * X[1]\n",
    "\n",
    "    # Likelihood (sampling distribution) of observations\n",
    "\n",
    "    Y_obs = pm.Normal('Y_obs', mu=mu, sigma=sigma, observed=Y)"
   ],
   "id": "4394da45c2412c81",
   "outputs": [],
   "execution_count": null
  },
  {
   "metadata": {},
   "cell_type": "markdown",
   "source": [
    "The first line, `basic_model = pm.Model()`, creates a new `Model`\n",
    "object which **is a container** for the model random variables."
   ],
   "id": "bc84dbdd07f57cfe"
  },
  {
   "metadata": {},
   "cell_type": "markdown",
   "source": [
    "Following the creation of the `Model` component, all specification\n",
    "of the `Model` details occurs within the `with` statement,\n",
    "`with basic_model`.\n",
    "\n",
    "The `with` statement creates a context manager with `basic_model`\n",
    "as the context. The consequence of this context manager is that\n",
    "**all variables** declared in the context of the `with` statement\n",
    "are added to the model behind the scenes.\n",
    "\n",
    "Helpfully, if one tries to create a random variable **outside** a\n",
    "`with model` statement, PyMC will raise an error because it cannot\n",
    "determine an obvious model variable to which to add the\n",
    "random variable.\n",
    "\n"
   ],
   "id": "8a296f5d684feb59"
  },
  {
   "metadata": {},
   "cell_type": "markdown",
   "source": [
    "The first three statements within the context manager,\n",
    "\n",
    "```python\n",
    "alpha = pm.Normal('alpha', mu=0, sigma=10)\n",
    "beta = pm.Normal('beta', mu=0, sigma=10)\n",
    "sigma = pm.HalfNormal('sigma', sigma=1)\n",
    "```\n",
    "\n",
    "create **stochastic** variables. (See the\n",
    "[Wikipedia articel](https://en.wikipedia.org/wiki/Random_variable)\n",
    "for a definition of a _stochastic variable_.) These variables are\n",
    "random variables with normally distributed prior distributions.\n",
    "\n",
    "These variables are stochastic because their values are partly\n",
    "determined by simple constants and partly random."
   ],
   "id": "a5df25d13800c8f6"
  },
  {
   "metadata": {},
   "cell_type": "markdown",
   "source": [
    "Most commonly used distributions, such as `Beta`, `Exponential`,\n",
    "`Categorical`, `Gamma`, `Binomial`, and many others,\n",
    "are available in PyMC.\n"
   ],
   "id": "84c72749c7eccb0b"
  },
  {
   "metadata": {},
   "cell_type": "markdown",
   "source": [
    "The `beta` variable has an additional `shape` argument to denote\n",
    "it as a vector valued parameter of size 2. The `shape` argument\n",
    "is available for **all** distributions and specifies the length\n",
    "or shape of the random variable. But this parameter is **optional**\n",
    "for scalar values (its default value is 1)."
   ],
   "id": "f8dedd9d03d40592"
  },
  {
   "metadata": {},
   "cell_type": "markdown",
   "source": [
    "Having defined the priors, the next statement,\n",
    "`mu = alpha + beta[0] * X[0] + beta[1] * X[1]`',\n",
    "creates a **deterministic** random variable. That is, its value\n",
    "is completely determined by its **parent's** values - but the\n",
    "parent values are stochastic.\n",
    "\n",
    "PyMC random variables and data can be arbitrarily added, subtracted,\n",
    "multiplied, divided and indexed into. Many common mathematical\n",
    "functions such as `sum`, `sin`, `exp` and linear algebra operators\n",
    "like `dot` (the inner product) and `inv` (the inverse) are\n",
    "also provided.\n"
   ],
   "id": "cb2e72f86bd89781"
  },
  {
   "metadata": {},
   "cell_type": "markdown",
   "source": [
    "The final line of the model,\n",
    "`Y_obs = pm.Normal('Y_obs', mu=mu, sigma=sigma, observed=Y)`, defines\n",
    "the sampling distribution of the outcomes in the data set."
   ],
   "id": "1721661e48ed0c18"
  },
  {
   "metadata": {},
   "cell_type": "markdown",
   "source": [
    "This variable, `Y_obs`, is a special case of a stochastic variable,\n",
    "that we call an **observed stochastic**. It represents the\n",
    "**data likelihood** of the model.\n",
    "\n",
    "This variable is just like other stochastic variables except that its\n",
    "`observed` argument which passes **data** to the variable, indicates\n",
    "that these values were **observed** and should **not be changed** by\n",
    "any fitting algorithm applied to the model. The observed data can\n",
    "either by an `ndarray` or a `DataFrame` object.\n",
    "\n",
    "Finally, notice that unlike tho model priors, the parameters of `Y_obs`\n",
    "are **not** fixed values, but are the deterministic object, `mu`, and\n",
    "the stochastic object, `sigma`. This structure creates a parent-child\n",
    "relationship between the likelihood and these two objects."
   ],
   "id": "a82ce0a774a0ea2d"
  },
  {
   "metadata": {},
   "cell_type": "markdown",
   "source": "We now sample 1000 samples from our posterior.",
   "id": "b77c60fb898741d1"
  },
  {
   "metadata": {},
   "cell_type": "code",
   "source": [
    "with basic_model:\n",
    "    # Draw 1000 posterior samples\n",
    "    idata = pm.sample(random_seed=RANDOM_SEED)"
   ],
   "id": "5b9ef1910bfec2fb",
   "outputs": [],
   "execution_count": null
  },
  {
   "metadata": {},
   "cell_type": "markdown",
   "source": [
    "The `sample()` function runs the step method(s) assigned (or passed)\n",
    "to it. It returns an `InferenceData` object containing the samples\n",
    "collected, along with other useful attributes.\n",
    "\n",
    "Note that `sample()` generates a set of parallel chains, depending\n",
    "on the number of compture cores on your machine."
   ],
   "id": "8f53ff79716f22de"
  },
  {
   "metadata": {},
   "cell_type": "code",
   "source": "idata",
   "id": "afefbe0e6db524e3",
   "outputs": [],
   "execution_count": null
  },
  {
   "metadata": {},
   "cell_type": "markdown",
   "source": [
    "The various attributes of the `InferenceData` object can be queried\n",
    "in a similar way to a `dict` containing a map from variable names\n",
    "to `numpy.array`s.\n",
    "\n",
    "For example, we can retrieve the sampling trace from the `alpha`\n",
    "latent variable using the variable name as an index to the\n",
    "`idata.posterior` attribute. The first dimension of the returned\n",
    "array is the chain index, the second dimension is the sampling\n",
    "index, while the later dimensions match the shape of the variable."
   ],
   "id": "62d963c0428e1602"
  },
  {
   "metadata": {},
   "cell_type": "code",
   "source": "idata.posterior['alpha'].sel(draw=slice(0, 4))",
   "id": "4104f46b581bcbc8",
   "outputs": [],
   "execution_count": null
  },
  {
   "metadata": {},
   "cell_type": "markdown",
   "source": [
    "The NUTS sampling algorithm is assigned by default. If we wanted to\n",
    "use the slice sampling algorithm to sample our parameters instead\n",
    "of the NUTS sampler by using the `step` argument for `sample`."
   ],
   "id": "6708ad1d63d656eb"
  },
  {
   "metadata": {},
   "cell_type": "code",
   "source": [
    "with basic_model:\n",
    "    # Instantiate sampler\n",
    "    step = pm.Slice()\n",
    "\n",
    "    # Draw 5000 posterior samples\n",
    "    slice_idata = pm.sample(5000, step=step)"
   ],
   "id": "8ffab746508d835c",
   "outputs": [],
   "execution_count": null
  },
  {
   "metadata": {},
   "cell_type": "code",
   "source": "",
   "id": "b14d0fd08fd8968b",
   "outputs": [],
   "execution_count": null
  }
 ],
 "metadata": {
  "kernelspec": {
   "display_name": "Python 3",
   "language": "python",
   "name": "python3"
  },
  "language_info": {
   "codemirror_mode": {
    "name": "ipython",
    "version": 2
   },
   "file_extension": ".py",
   "mimetype": "text/x-python",
   "name": "python",
   "nbconvert_exporter": "python",
   "pygments_lexer": "ipython2",
   "version": "2.7.6"
  }
 },
 "nbformat": 4,
 "nbformat_minor": 5
}
